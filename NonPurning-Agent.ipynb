{
  "cells": [
    {
      "cell_type": "markdown",
      "id": "eba016f5",
      "metadata": {
        "id": "eba016f5"
      },
      "source": [
        "# Goal\n",
        "using the minimax algorithm we want to predict opponent move and try to win the game."
      ]
    },
    {
      "cell_type": "markdown",
      "id": "927a83e7",
      "metadata": {
        "id": "927a83e7"
      },
      "source": [
        "# Description\n",
        "Each player in each stage must choose one of the columns. The player piece in the selected column goes down and is placed until it reaches another piece or reaches the lowest row.\n",
        "In our algorithm, the depth shows how much algorithm is pecise, also the higher the depth, the higher the average time complexity and victory chance."
      ]
    },
    {
      "cell_type": "markdown",
      "id": "8799c1f1",
      "metadata": {
        "id": "8799c1f1"
      },
      "source": [
        "# my heuristic\n",
        "The heuristic function evaluates the best possible move. this function determines which position has better benefit. for example if you have 3 marbles in a row, putting your next move near them makes you win the game. so this state has the highest rank and its the best move possible. in contradiction of this state when opponent has 3 marbels in a row its very dangerous for you because you will lose the game after his move. so instead of going for win for yourself, you will go for stopping your opponent so this state has high pririty too.\n",
        "and Because of this function covers up every cell of the every partof board and assign a value to each cell, so this heuristic is optimized and also consistant."
      ]
    },
    {
      "cell_type": "markdown",
      "id": "222f0b54",
      "metadata": {
        "id": "222f0b54"
      },
      "source": [
        "# Questions\n",
        "1. good heuristic finds more winning move and can set higher priority for the states wich has higher chance of wining. my heristc is very good because besides evaluating wining states it stops opponent from wining too. i mean it can both make you win and dont lets you lose easily. for example if you have 3 marbles in a row, putting your next move near them makes you win the game. so this state has the highest rank and its the best move possible. in contradiction of this state when opponent has 3 marbels in a row its very dangerous for you because you will lose the game after his move. so instead of going for win for yourself, you will go for stopping your opponent so this state has high pririty too. and Because of this function covers up every cell of the every partof board and assign a value to each cell, so this heuristic is optimized and also consistant. if i set this last state low priority i would have lost the game easier.\n",
        "\n",
        "2. the depth shows how much algorithm is pecise and correct, also the higher the depth, the higher the average time complexity and victory chance.\n",
        "\n",
        "3. the pruning is is used for reducing the time complexity. While pruning, the algorithm will stop seeing the nodes that are not valid. so the best order in pruning is that children of maximizing nodes be decrease and children of minimizing nodes be increase. But beacause we cant calculate score of most of our nodes we use shuffle them so some how good nodes reach closer"
      ]
    },
    {
      "cell_type": "code",
      "execution_count": null,
      "id": "ce809c50",
      "metadata": {
        "id": "ce809c50"
      },
      "outputs": [],
      "source": [
        "from random import random, shuffle\n",
        "import copy\n",
        "from decimal import Decimal\n",
        "import time\n",
        "import copy\n",
        "import numpy as np\n",
        "\n",
        "class ConnectSin:\n",
        "    YOU = 1\n",
        "    CPU = -1\n",
        "    EMPTY = 0\n",
        "    DRAW = 0\n",
        "    __CONNECT_NUMBER = 4\n",
        "    board = None\n",
        "\n",
        "    def __init__(self, board_size=(6, 7), silent=False):\n",
        "        \"\"\"\n",
        "        The main class for the connect4 game\n",
        "\n",
        "        Inputs\n",
        "        ----------\n",
        "        board_size : a tuple representing the board size in format: (rows, columns)\n",
        "        silent     : whether the game prints outputs or not\n",
        "        \"\"\"\n",
        "        assert len(board_size) == 2, \"board size should be a 1*2 tuple\"\n",
        "        assert board_size[0] > 4 and board_size[1] > 4, \"board size should be at least 5*5\"\n",
        "\n",
        "        self.columns = board_size[1]\n",
        "        self.rows = board_size[0]\n",
        "        self.silent = silent\n",
        "        self.board_size = self.rows * self.columns\n",
        "\n",
        "        self.purning_flag = False\n",
        "        self.max_depth = 1\n",
        "        self.visited_cell = 0\n",
        "\n",
        "    def set_max_depth(self, max_d):\n",
        "        self.max_depth = max_d\n",
        "\n",
        "    def set_purning_flag(self, flag):\n",
        "        self.purning_flag = flag\n",
        "\n",
        "    def get_cell_visited(self):\n",
        "        return self.visited_cell\n",
        "\n",
        "    def run(self, starter=None):\n",
        "        \"\"\"\n",
        "        runs the game!\n",
        "\n",
        "        Inputs\n",
        "        ----------\n",
        "        starter : either -1,1 or None. -1 if cpu starts the game, 1 if you start the game. None if you want the starter\n",
        "            to be assigned randomly\n",
        "\n",
        "        Output\n",
        "        ----------\n",
        "        (int) either 1,0,-1. 1 meaning you have won, -1 meaning the player has won and 0 means that the game has drawn\n",
        "        \"\"\"\n",
        "        if (not starter):\n",
        "            starter = self.__get_random_starter()\n",
        "        assert starter in [self.YOU, self.CPU], \"starter value can only be 1,-1 or None\"\n",
        "\n",
        "        self.__init_board()\n",
        "        turns_played = 0\n",
        "        current_player = starter\n",
        "        while(turns_played < self.board_size):\n",
        "\n",
        "            if (current_player == self.YOU):\n",
        "                self.__print_board()\n",
        "                player_input = self.get_your_input()\n",
        "            elif (current_player == self.CPU):\n",
        "                player_input = self.__get_cpu_input()\n",
        "            else:\n",
        "                raise Exception(\"A problem has happend! contact no one, there is no fix!\")\n",
        "            if (not self.register_input(player_input, current_player)):\n",
        "                self.__print(\"this move is invalid!\")\n",
        "                continue\n",
        "            current_player = self.__change_turn(current_player)\n",
        "            potential_winner = self.check_for_winners()\n",
        "            turns_played += 1\n",
        "            if (potential_winner != 0):\n",
        "                self.__print_board()\n",
        "                self.__print_winner_message(potential_winner)\n",
        "                return potential_winner\n",
        "        self.__print_board()\n",
        "        self.__print(\"The game has ended in a draw!\")\n",
        "        return self.DRAW\n",
        "\n",
        "    def get_your_input(self):\n",
        "        \"\"\"\n",
        "        gets your input\n",
        "\n",
        "        Output\n",
        "        ----------\n",
        "        (int) an integer between 1 and column count. the column to put a piece in\n",
        "        \"\"\"\n",
        "        #TODO: complete here\n",
        "#         return int(input())\n",
        "\n",
        "        move, minimax_score = self.minimax(0, Decimal('-Infinity'), Decimal('Infinity'), True)\n",
        "\n",
        "        return move\n",
        "\n",
        "    def set_my_score(self, flag):\n",
        "        if(flag == True):\n",
        "            return Decimal('-Infinity')\n",
        "        if(flag == False):\n",
        "            return Decimal('Infinity')\n",
        "\n",
        "    def set_my_move(self, moves):\n",
        "        return moves[0]\n",
        "\n",
        "    def drop_piece(self, move, current_player):\n",
        "        last_empty_space = 0\n",
        "        column_index = move - 1\n",
        "        for i in range(self.rows):\n",
        "            if (self.board[i][column_index] == 0):\n",
        "                last_empty_space = i\n",
        "        self.board[last_empty_space][column_index] = current_player\n",
        "        return last_empty_space, column_index\n",
        "\n",
        "    def minimax(self, depth, alpha, beta, maximizing):\n",
        "        my_moves = self.get_possible_moves()\n",
        "        self.visited_cell += 1\n",
        "\n",
        "        if(len(my_moves) == 0 or self.check_for_winners() != self.EMPTY):\n",
        "            if(self.check_for_winners() == self.YOU):\n",
        "                return None, Decimal('Infinity')\n",
        "\n",
        "            elif(self.check_for_winners() == self.CPU):\n",
        "                return None, Decimal('-Infinity')\n",
        "\n",
        "            elif(len(my_moves) == 0):\n",
        "                return None, 0\n",
        "\n",
        "        elif(depth == self.max_depth):\n",
        "            return None, self.my_heuristic()\n",
        "\n",
        "        my_score = self.set_my_score(maximizing)\n",
        "        if(self.purning_flag == True):\n",
        "            shuffle(my_moves)\n",
        "\n",
        "        my_move = self.set_my_move(my_moves)\n",
        "\n",
        "\n",
        "        if(maximizing == True):\n",
        "            for move in my_moves:\n",
        "                e, idx = self.drop_piece(move, self.YOU)\n",
        "\n",
        "                score = self.minimax(depth+1, alpha, beta, False)[1]\n",
        "\n",
        "                self.board[e][idx] = self.EMPTY\n",
        "                #print(\"True   \",score, move)\n",
        "                if(score > my_score):\n",
        "                    my_score = score\n",
        "                    my_move = move\n",
        "\n",
        "                    if(my_score > alpha):\n",
        "                        alpha = my_score\n",
        "\n",
        "                    if(self.purning_flag == True):\n",
        "                        if(alpha >= beta):\n",
        "                            break\n",
        "\n",
        "        if(maximizing == False):\n",
        "            for move in my_moves:\n",
        "                e, idx = self.drop_piece(move, self.CPU)\n",
        "                score = self.minimax(depth+1, alpha, beta, True)[1]\n",
        "\n",
        "                self.board[e][idx] = self.EMPTY\n",
        "                #print(\"falsee   \",score)\n",
        "                if(score < my_score):\n",
        "                    my_score = score\n",
        "                    my_move = move\n",
        "\n",
        "                    if(my_score < beta):\n",
        "                            beta = my_score\n",
        "\n",
        "                    if(self.purning_flag == True):\n",
        "                        if(alpha >= beta):\n",
        "                            break\n",
        "\n",
        "        return my_move, my_score\n",
        "\n",
        "    def check_vertical(self):\n",
        "        score = 0\n",
        "        for i in range(self.rows - self.__CONNECT_NUMBER + 1):\n",
        "            for j in range(self.columns):\n",
        "                player_idxs = [0,0,0,0]\n",
        "                for k in range(self.__CONNECT_NUMBER):\n",
        "                    if self.board[i + k][j] == self.YOU:\n",
        "                        player_idxs[k] = 1\n",
        "                    elif self.board[i + k][j] == self.CPU:\n",
        "                        player_idxs[k] = -1\n",
        "                    else:\n",
        "                        player_idxs[k] = 0\n",
        "\n",
        "                ss = 0\n",
        "                #print(player_idxs)\n",
        "                if player_idxs == [1,1,1,1]:\n",
        "                 #   print(\"4v\")\n",
        "                    ss += 100\n",
        "                elif player_idxs == [0,1,1,1] or player_idxs == [1,0,1,1] or player_idxs == [1,1,0,1] or player_idxs == [1,1,1,0]:\n",
        "                  #  print(\"3v\")\n",
        "                    ss += 8\n",
        "                elif player_idxs == [0,0,1,1] or player_idxs == [1,0,0,1] or player_idxs == [1,1,0,0] or player_idxs == [1,0,1,0] or player_idxs == [0,1,0,1] or player_idxs == [0,1,1,0]:\n",
        "                   # print(\"2v\")\n",
        "                    ss += 2\n",
        "                if player_idxs == [0,-1,-1,-1] or player_idxs == [-1,0,-1,-1] or player_idxs == [-1,-1,0,-1] or player_idxs == [-1,-1,-1,0]:\n",
        "                    #print(\"-3v\")\n",
        "                    ss -= 50\n",
        "\n",
        "                score += ss\n",
        "        return score\n",
        "\n",
        "    def check_horizontal(self):\n",
        "        score = 0\n",
        "        for i in range(self.rows):\n",
        "            for j in range(self.columns - self.__CONNECT_NUMBER + 1):\n",
        "                player_idxs = [0,0,0,0]\n",
        "                for k in range(self.__CONNECT_NUMBER):\n",
        "                    if self.board[i][j + k] == self.YOU:\n",
        "                        player_idxs[k] = 1\n",
        "                    elif self.board[i][j + k] == self.CPU:\n",
        "                        player_idxs[k] = -1\n",
        "                    else:\n",
        "                        player_idxs[k] = 0\n",
        "\n",
        "                ss = 0\n",
        "                #print(player_idxs)\n",
        "                if player_idxs == [1,1,1,1]:\n",
        "                    #print(\"4h\")\n",
        "                    ss += 100\n",
        "                elif player_idxs == [0,1,1,1] or player_idxs == [1,0,1,1] or player_idxs == [1,1,0,1] or player_idxs == [1,1,1,0]:\n",
        "                #    print(\"3h\")\n",
        "                    ss += 8\n",
        "                elif player_idxs == [0,0,1,1] or player_idxs == [1,0,0,1] or player_idxs == [1,1,0,0] or player_idxs == [1,0,1,0] or player_idxs == [0,1,0,1] or player_idxs == [0,1,1,0]:\n",
        "                 #   print(\"2h\")\n",
        "                    ss += 2\n",
        "                if player_idxs == [0,-1,-1,-1] or player_idxs == [-1,0,-1,-1] or player_idxs == [-1,-1,0,-1] or player_idxs == [-1,-1,-1,0]:\n",
        "                  #  print(\"-3h\")\n",
        "                    ss -= 50\n",
        "\n",
        "                score += ss\n",
        "        return score\n",
        "\n",
        "    def check_right_diagonal(self):\n",
        "        score = 0\n",
        "        for i in range(self.rows - self.__CONNECT_NUMBER + 1):\n",
        "            for j in range(self.columns - self.__CONNECT_NUMBER + 1):\n",
        "                player_idxs = [0,0,0,0]\n",
        "                for k in range(self.__CONNECT_NUMBER):\n",
        "                    if self.board[i + k][j + k] == self.YOU:\n",
        "                        player_idxs[k] = 1\n",
        "                    elif self.board[i + k][j + k] == self.CPU:\n",
        "                        player_idxs[k] = -1\n",
        "                    else:\n",
        "                        player_idxs[k] = 0\n",
        "\n",
        "                ss = 0\n",
        "                #print(player_idxs)\n",
        "                if player_idxs == [1,1,1,1]:\n",
        "                #    print(\"4rd\")\n",
        "                    ss += 100\n",
        "                elif player_idxs == [0,1,1,1] or player_idxs == [1,0,1,1] or player_idxs == [1,1,0,1] or player_idxs == [1,1,1,0]:\n",
        "                 #   print(\"3rd\")\n",
        "                    ss += 8\n",
        "                elif player_idxs == [0,0,1,1] or player_idxs == [1,0,0,1] or player_idxs == [1,1,0,0] or player_idxs == [1,0,1,0] or player_idxs == [0,1,0,1] or player_idxs == [0,1,1,0]:\n",
        "                  #  print(\"2rd\")\n",
        "                    ss += 2\n",
        "                if player_idxs == [0,-1,-1,-1] or player_idxs == [-1,0,-1,-1] or player_idxs == [-1,-1,0,-1] or player_idxs == [-1,-1,-1,0]:\n",
        "                   # print(\"-3rd\")\n",
        "                    ss -= 50\n",
        "\n",
        "                score += ss\n",
        "        return score\n",
        "\n",
        "    def check_left_diagonal(self):\n",
        "        score = 0\n",
        "        for i in range(self.rows - self.__CONNECT_NUMBER + 1):\n",
        "            for j in range(self.columns - self.__CONNECT_NUMBER + 1):\n",
        "                player_idxs = [0,0,0,0]\n",
        "                for k in range(self.__CONNECT_NUMBER):\n",
        "                    if self.board[i - k + 3][j + k] == self.YOU:\n",
        "                        player_idxs[k] = 1\n",
        "                    elif self.board[i - k + 3][j + k] == self.CPU:\n",
        "                        player_idxs[k] = -1\n",
        "                    else:\n",
        "                        player_idxs[k] = 0\n",
        "\n",
        "                ss = 0\n",
        "                #print(player_idxs)\n",
        "                if player_idxs == [1,1,1,1]:\n",
        "                #    print(\"4ld\")\n",
        "                    ss += 100\n",
        "                elif player_idxs == [0,1,1,1] or player_idxs == [1,0,1,1] or player_idxs == [1,1,0,1] or player_idxs == [1,1,1,0]:\n",
        "                 #   print(\"3ld\")\n",
        "                    ss += 8\n",
        "                elif player_idxs == [0,0,1,1] or player_idxs == [1,0,0,1] or player_idxs == [1,1,0,0] or player_idxs == [1,0,1,0] or player_idxs == [0,1,0,1] or player_idxs == [0,1,1,0]:\n",
        "                  #  print(\"2ld\")\n",
        "                    ss += 2\n",
        "                if player_idxs == [0,-1,-1,-1] or player_idxs == [-1,0,-1,-1] or player_idxs == [-1,-1,0,-1] or player_idxs == [-1,-1,-1,0]:\n",
        "                   # print(\"-3ld\")\n",
        "                    ss -= 50\n",
        "\n",
        "                score += ss\n",
        "        return score\n",
        "\n",
        "    def check_diagonal(self):\n",
        "        score_1 = self.check_right_diagonal()\n",
        "        score_2 = self.check_left_diagonal()\n",
        "\n",
        "        return score_1 + score_2\n",
        "\n",
        "    def my_heuristic(self):\n",
        "\n",
        "        score_h = self.check_horizontal()\n",
        "        #print(\"11 hh\", score_h)\n",
        "        score_v = self.check_vertical()\n",
        "        #print(\"11 vv\", score_v)\n",
        "        score_d = self.check_diagonal()\n",
        "        #print(\"11 dd\", score_d)\n",
        "        return score_h + score_v + score_d\n",
        "\n",
        "    def check_for_winners(self):\n",
        "        \"\"\"\n",
        "        checks if anyone has won in this position\n",
        "\n",
        "        Output\n",
        "        ----------\n",
        "        (int) either 1,0,-1. 1 meaning you have won, -1 meaning the player has won and 0 means that nothing has happened\n",
        "        \"\"\"\n",
        "        have_you_won = self.check_if_player_has_won(self.YOU)\n",
        "        if have_you_won:\n",
        "            return self.YOU\n",
        "        has_cpu_won = self.check_if_player_has_won(self.CPU)\n",
        "        if has_cpu_won:\n",
        "            return self.CPU\n",
        "        return self.EMPTY\n",
        "\n",
        "    def check_if_player_has_won(self, player_id):\n",
        "        \"\"\"\n",
        "        checks if player with player_id has won\n",
        "\n",
        "        Inputs\n",
        "        ----------\n",
        "        player_id : the id for the player to check\n",
        "\n",
        "        Output\n",
        "        ----------\n",
        "        (boolean) true if the player has won in this position\n",
        "        \"\"\"\n",
        "        return (\n",
        "            self.__has_player_won_diagonally(player_id)\n",
        "            or self.__has_player_won_horizentally(player_id)\n",
        "            or self.__has_player_won_vertically(player_id)\n",
        "        )\n",
        "\n",
        "    def is_move_valid(self, move):\n",
        "        \"\"\"\n",
        "        checks if this move can be played\n",
        "\n",
        "        Inputs\n",
        "        ----------\n",
        "        move : the column to place a piece in, in range [1, column count]\n",
        "\n",
        "        Output\n",
        "        ----------\n",
        "        (boolean) true if the move can be played\n",
        "        \"\"\"\n",
        "        if (move < 1 or move > self.columns):\n",
        "            return False\n",
        "        column_index = move - 1\n",
        "        return self.board[0][column_index] == 0\n",
        "\n",
        "    def get_possible_moves(self):\n",
        "        \"\"\"\n",
        "        returns a list of possible moves for the next move\n",
        "\n",
        "        Output\n",
        "        ----------\n",
        "        (list) a list of numbers of columns that a piece can be placed in\n",
        "        \"\"\"\n",
        "        possible_moves = []\n",
        "        for i in range(self.columns):\n",
        "            move = i + 1\n",
        "            if (self.is_move_valid(move)):\n",
        "                possible_moves.append(move)\n",
        "        return possible_moves\n",
        "\n",
        "    def register_input(self, player_input, current_player):\n",
        "        \"\"\"\n",
        "        registers move to board, remember that this function changes the board\n",
        "\n",
        "        Inputs\n",
        "        ----------\n",
        "        player_input : the column to place a piece in, in range [1, column count]\n",
        "        current_player: ID of the current player, either self.YOU or self.CPU\n",
        "\n",
        "        \"\"\"\n",
        "        if (not self.is_move_valid(player_input)):\n",
        "            return False\n",
        "        self.__drop_piece_in_column(player_input, current_player)\n",
        "        return True\n",
        "\n",
        "    def __init_board(self):\n",
        "        self.board = []\n",
        "        for i in range(self.rows):\n",
        "            self.board.append([self.EMPTY] * self.columns)\n",
        "\n",
        "    def __print(self, message: str):\n",
        "        if not self.silent:\n",
        "            print(message)\n",
        "\n",
        "    def __has_player_won_horizentally(self, player_id):\n",
        "        for i in range(self.rows):\n",
        "            for j in range(self.columns - self.__CONNECT_NUMBER + 1):\n",
        "                has_won = True\n",
        "                for x in range(self.__CONNECT_NUMBER):\n",
        "                    if self.board[i][j + x] != player_id:\n",
        "                        has_won = False\n",
        "                        break\n",
        "                if has_won:\n",
        "                    return True\n",
        "        return False\n",
        "\n",
        "    def __has_player_won_vertically(self, player_id):\n",
        "        for i in range(self.rows - self.__CONNECT_NUMBER + 1):\n",
        "            for j in range(self.columns):\n",
        "                has_won = True\n",
        "                for x in range(self.__CONNECT_NUMBER):\n",
        "                    if self.board[i + x][j] != player_id:\n",
        "                        has_won = False\n",
        "                        break\n",
        "                if has_won:\n",
        "                    return True\n",
        "        return False\n",
        "\n",
        "    def __has_player_won_diagonally(self, player_id):\n",
        "        for i in range(self.rows - self.__CONNECT_NUMBER + 1):\n",
        "            for j in range(self.columns - self.__CONNECT_NUMBER + 1):\n",
        "                has_won = True\n",
        "                for x in range(self.__CONNECT_NUMBER):\n",
        "                    if self.board[i + x][j + x] != player_id:\n",
        "                        has_won = False\n",
        "                        break\n",
        "                if has_won:\n",
        "                    return True\n",
        "                has_won = True\n",
        "                for x in range(self.__CONNECT_NUMBER):\n",
        "                    if self.board[i + self.__CONNECT_NUMBER - 1 - x][j + x] != player_id:\n",
        "                        has_won = False\n",
        "                        break\n",
        "                if has_won:\n",
        "                    return True\n",
        "        return False\n",
        "\n",
        "    def __get_random_starter(self):\n",
        "        players = [self.YOU, self.CPU]\n",
        "        return players[int(random() * len(players))]\n",
        "\n",
        "    def __get_cpu_input(self):\n",
        "        \"\"\"\n",
        "        This is where clean code goes to die.\n",
        "        \"\"\"\n",
        "        #return int(input())\n",
        "        bb = copy.deepcopy(self.board)\n",
        "        pm = self.get_possible_moves()\n",
        "        for m in pm:\n",
        "            self.register_input(m, self.CPU)\n",
        "            if (self.check_if_player_has_won(self.CPU)):\n",
        "                self.board = bb\n",
        "                return m\n",
        "            self.board = copy.deepcopy(bb)\n",
        "        if (self.is_move_valid((self.columns // 2) + 1)):\n",
        "            c = 0\n",
        "            cl = (self.columns // 2) + 1\n",
        "            for x in range(self.rows):\n",
        "                if (self.board[x][cl] == self.CPU):\n",
        "                    c += 1\n",
        "            if (random() < 0.65):\n",
        "                return cl\n",
        "        return pm[int(random() * len(pm))]\n",
        "\n",
        "    def __drop_piece_in_column(self, move, current_player):\n",
        "        last_empty_space = 0\n",
        "        column_index = move - 1\n",
        "        for i in range(self.rows):\n",
        "            if (self.board[i][column_index] == 0):\n",
        "                last_empty_space = i\n",
        "        self.board[last_empty_space][column_index] = current_player\n",
        "        return True\n",
        "\n",
        "    def __print_winner_message(self, winner):\n",
        "        if (winner == self.YOU):\n",
        "            self.__print(\"congrats! you have won!\")\n",
        "        else:\n",
        "            self.__print(\"gg. CPU has won!\")\n",
        "\n",
        "    def __change_turn(self, turn):\n",
        "        if (turn == self.YOU):\n",
        "            return self.CPU\n",
        "        else:\n",
        "            return self.YOU\n",
        "\n",
        "    def __print_board(self):\n",
        "        if (self.silent): return\n",
        "        print(\"Y: you, C: CPU\")\n",
        "        for i in range(self.rows):\n",
        "            for j in range(self.columns):\n",
        "                house_char = \"O\"\n",
        "                if (self.board[i][j] == self.YOU):\n",
        "                    house_char = \"Y\"\n",
        "                elif (self.board[i][j] == self.CPU):\n",
        "                    house_char = \"C\"\n",
        "\n",
        "                print(f\"{house_char}\", end=\" \")\n",
        "            print()\n"
      ]
    },
    {
      "cell_type": "code",
      "execution_count": null,
      "id": "4ac7cd89",
      "metadata": {
        "id": "4ac7cd89",
        "outputId": "1fcf8ebe-0105-48bd-b433-97e9c65ee5db"
      },
      "outputs": [
        {
          "name": "stdout",
          "output_type": "stream",
          "text": [
            "Y: you, C: CPU\n",
            "O O O O O O O \n",
            "O O O O O O O \n",
            "O O O O O O O \n",
            "O O O O O O O \n",
            "O O O O O O O \n",
            "O O O C O O O \n"
          ]
        },
        {
          "ename": "NameError",
          "evalue": "name 'np' is not defined",
          "output_type": "error",
          "traceback": [
            "\u001b[1;31m---------------------------------------------------------------------------\u001b[0m",
            "\u001b[1;31mNameError\u001b[0m                                 Traceback (most recent call last)",
            "Input \u001b[1;32mIn [27]\u001b[0m, in \u001b[0;36m<cell line: 8>\u001b[1;34m()\u001b[0m\n\u001b[0;32m      6\u001b[0m game\u001b[38;5;241m.\u001b[39mset_max_depth(\u001b[38;5;241m1\u001b[39m)\n\u001b[0;32m      7\u001b[0m game\u001b[38;5;241m.\u001b[39mset_purning_flag(\u001b[38;5;28;01mFalse\u001b[39;00m)\n\u001b[1;32m----> 8\u001b[0m \u001b[43mgame\u001b[49m\u001b[38;5;241;43m.\u001b[39;49m\u001b[43mrun\u001b[49m\u001b[43m(\u001b[49m\u001b[43m)\u001b[49m\n",
            "Input \u001b[1;32mIn [15]\u001b[0m, in \u001b[0;36mConnectSin.run\u001b[1;34m(self, starter)\u001b[0m\n\u001b[0;32m     66\u001b[0m \u001b[38;5;28;01mif\u001b[39;00m (current_player \u001b[38;5;241m==\u001b[39m \u001b[38;5;28mself\u001b[39m\u001b[38;5;241m.\u001b[39mYOU):\n\u001b[0;32m     67\u001b[0m     \u001b[38;5;28mself\u001b[39m\u001b[38;5;241m.\u001b[39m__print_board()\n\u001b[1;32m---> 68\u001b[0m     player_input \u001b[38;5;241m=\u001b[39m \u001b[38;5;28;43mself\u001b[39;49m\u001b[38;5;241;43m.\u001b[39;49m\u001b[43mget_your_input\u001b[49m\u001b[43m(\u001b[49m\u001b[43m)\u001b[49m\n\u001b[0;32m     69\u001b[0m \u001b[38;5;28;01melif\u001b[39;00m (current_player \u001b[38;5;241m==\u001b[39m \u001b[38;5;28mself\u001b[39m\u001b[38;5;241m.\u001b[39mCPU):\n\u001b[0;32m     70\u001b[0m     player_input \u001b[38;5;241m=\u001b[39m \u001b[38;5;28mself\u001b[39m\u001b[38;5;241m.\u001b[39m__get_cpu_input()\n",
            "Input \u001b[1;32mIn [15]\u001b[0m, in \u001b[0;36mConnectSin.get_your_input\u001b[1;34m(self)\u001b[0m\n\u001b[0;32m     95\u001b[0m         \u001b[38;5;66;03m#TODO: complete here\u001b[39;00m\n\u001b[0;32m     96\u001b[0m \u001b[38;5;66;03m#         return int(input())\u001b[39;00m\n\u001b[0;32m     97\u001b[0m         copiedboard \u001b[38;5;241m=\u001b[39m copy\u001b[38;5;241m.\u001b[39mdeepcopy(\u001b[38;5;28mself\u001b[39m\u001b[38;5;241m.\u001b[39mboard)\n\u001b[1;32m---> 98\u001b[0m         move, minimax_score \u001b[38;5;241m=\u001b[39m \u001b[38;5;28;43mself\u001b[39;49m\u001b[38;5;241;43m.\u001b[39;49m\u001b[43mminimax\u001b[49m\u001b[43m(\u001b[49m\u001b[38;5;241;43m0\u001b[39;49m\u001b[43m,\u001b[49m\u001b[43m \u001b[49m\u001b[43mDecimal\u001b[49m\u001b[43m(\u001b[49m\u001b[38;5;124;43m'\u001b[39;49m\u001b[38;5;124;43mInfinity\u001b[39;49m\u001b[38;5;124;43m'\u001b[39;49m\u001b[43m)\u001b[49m\u001b[43m,\u001b[49m\u001b[43m \u001b[49m\u001b[43mDecimal\u001b[49m\u001b[43m(\u001b[49m\u001b[38;5;124;43m'\u001b[39;49m\u001b[38;5;124;43m-Infinity\u001b[39;49m\u001b[38;5;124;43m'\u001b[39;49m\u001b[43m)\u001b[49m\u001b[43m,\u001b[49m\u001b[43m \u001b[49m\u001b[38;5;28;43;01mTrue\u001b[39;49;00m\u001b[43m)\u001b[49m\n\u001b[0;32m     99\u001b[0m         \u001b[38;5;28mself\u001b[39m\u001b[38;5;241m.\u001b[39mboard \u001b[38;5;241m=\u001b[39m copiedboard\n\u001b[0;32m    100\u001b[0m         \u001b[38;5;28;01mreturn\u001b[39;00m move\n",
            "Input \u001b[1;32mIn [15]\u001b[0m, in \u001b[0;36mConnectSin.minimax\u001b[1;34m(self, depth, alpha, beta, maximizing)\u001b[0m\n\u001b[0;32m    145\u001b[0m \u001b[38;5;28;01mfor\u001b[39;00m move \u001b[38;5;129;01min\u001b[39;00m my_moves:\n\u001b[0;32m    146\u001b[0m     \u001b[38;5;66;03m#e, idx = self.drop_piece(move, self.YOU)\u001b[39;00m\n\u001b[0;32m    147\u001b[0m     \u001b[38;5;28mself\u001b[39m\u001b[38;5;241m.\u001b[39mregister_input(move, \u001b[38;5;28mself\u001b[39m\u001b[38;5;241m.\u001b[39mYOU)\n\u001b[1;32m--> 148\u001b[0m     score \u001b[38;5;241m=\u001b[39m \u001b[38;5;28;43mself\u001b[39;49m\u001b[38;5;241;43m.\u001b[39;49m\u001b[43mminimax\u001b[49m\u001b[43m(\u001b[49m\u001b[43mdepth\u001b[49m\u001b[38;5;241;43m+\u001b[39;49m\u001b[38;5;241;43m1\u001b[39;49m\u001b[43m,\u001b[49m\u001b[43m \u001b[49m\u001b[43malpha\u001b[49m\u001b[43m,\u001b[49m\u001b[43m \u001b[49m\u001b[43mbeta\u001b[49m\u001b[43m,\u001b[49m\u001b[43m \u001b[49m\u001b[38;5;28;43;01mFalse\u001b[39;49;00m\u001b[43m)\u001b[49m[\u001b[38;5;241m1\u001b[39m]\n\u001b[0;32m    149\u001b[0m     \u001b[38;5;28mself\u001b[39m\u001b[38;5;241m.\u001b[39mboard \u001b[38;5;241m=\u001b[39m copy\u001b[38;5;241m.\u001b[39mdeepcopy(copied_board)\n\u001b[0;32m    150\u001b[0m     \u001b[38;5;66;03m#self.board[e][idx] = self.EMPTY\u001b[39;00m\n\u001b[0;32m    151\u001b[0m     \u001b[38;5;66;03m#print(\"True   \",score, move)\u001b[39;00m\n",
            "Input \u001b[1;32mIn [15]\u001b[0m, in \u001b[0;36mConnectSin.minimax\u001b[1;34m(self, depth, alpha, beta, maximizing)\u001b[0m\n\u001b[0;32m    132\u001b[0m                 \u001b[38;5;28;01mreturn\u001b[39;00m \u001b[38;5;28;01mNone\u001b[39;00m, \u001b[38;5;241m0\u001b[39m\n\u001b[0;32m    134\u001b[0m         \u001b[38;5;28;01melif\u001b[39;00m(depth \u001b[38;5;241m==\u001b[39m \u001b[38;5;28mself\u001b[39m\u001b[38;5;241m.\u001b[39mmax_depth):\n\u001b[1;32m--> 135\u001b[0m             \u001b[38;5;28;01mreturn\u001b[39;00m \u001b[38;5;28;01mNone\u001b[39;00m, \u001b[38;5;28;43mself\u001b[39;49m\u001b[38;5;241;43m.\u001b[39;49m\u001b[43mmy_heuristic\u001b[49m\u001b[43m(\u001b[49m\u001b[43m)\u001b[49m\n\u001b[0;32m    137\u001b[0m         my_score \u001b[38;5;241m=\u001b[39m \u001b[38;5;28mself\u001b[39m\u001b[38;5;241m.\u001b[39mset_my_score(maximizing)\n\u001b[0;32m    138\u001b[0m \u001b[38;5;66;03m#         if(self.purning_flag == True):\u001b[39;00m\n\u001b[0;32m    139\u001b[0m \u001b[38;5;66;03m#             shuffle(my_moves)\u001b[39;00m\n",
            "Input \u001b[1;32mIn [15]\u001b[0m, in \u001b[0;36mConnectSin.my_heuristic\u001b[1;34m(self)\u001b[0m\n\u001b[0;32m    340\u001b[0m \u001b[38;5;28;01mdef\u001b[39;00m \u001b[38;5;21mmy_heuristic\u001b[39m(\u001b[38;5;28mself\u001b[39m):\n\u001b[1;32m--> 342\u001b[0m     score_h \u001b[38;5;241m=\u001b[39m \u001b[38;5;28;43mself\u001b[39;49m\u001b[38;5;241;43m.\u001b[39;49m\u001b[43mcheck_horizontal\u001b[49m\u001b[43m(\u001b[49m\u001b[43m)\u001b[49m\n\u001b[0;32m    343\u001b[0m     \u001b[38;5;66;03m#print(\"11 hh\", score_h)\u001b[39;00m\n\u001b[0;32m    344\u001b[0m     score_v \u001b[38;5;241m=\u001b[39m \u001b[38;5;28mself\u001b[39m\u001b[38;5;241m.\u001b[39mcheck_vertical()\n",
            "Input \u001b[1;32mIn [15]\u001b[0m, in \u001b[0;36mConnectSin.check_horizontal\u001b[1;34m(self)\u001b[0m\n\u001b[0;32m    219\u001b[0m \u001b[38;5;28;01mdef\u001b[39;00m \u001b[38;5;21mcheck_horizontal\u001b[39m(\u001b[38;5;28mself\u001b[39m):\n\u001b[0;32m    220\u001b[0m     score \u001b[38;5;241m=\u001b[39m \u001b[38;5;241m0\u001b[39m\n\u001b[1;32m--> 221\u001b[0m     board \u001b[38;5;241m=\u001b[39m \u001b[43mnp\u001b[49m\u001b[38;5;241m.\u001b[39marray(\u001b[38;5;28mself\u001b[39m\u001b[38;5;241m.\u001b[39mboard)\n\u001b[0;32m    223\u001b[0m     \u001b[38;5;28;01mfor\u001b[39;00m i \u001b[38;5;129;01min\u001b[39;00m \u001b[38;5;28mrange\u001b[39m(\u001b[38;5;28mself\u001b[39m\u001b[38;5;241m.\u001b[39mrows):\n\u001b[0;32m    224\u001b[0m         row_array \u001b[38;5;241m=\u001b[39m [\u001b[38;5;28mint\u001b[39m(i) \u001b[38;5;28;01mfor\u001b[39;00m i \u001b[38;5;129;01min\u001b[39;00m \u001b[38;5;28mlist\u001b[39m(board[i, :])]\n",
            "\u001b[1;31mNameError\u001b[0m: name 'np' is not defined"
          ]
        }
      ],
      "source": [
        "board_sizes_to_check = [(6,7),\n",
        "                        (7,8),\n",
        "                        (7,10)]\n",
        "\n",
        "game = ConnectSin(board_size=(6,7),silent=False)\n",
        "game.set_max_depth(1)\n",
        "game.set_purning_flag(False)\n",
        "game.run()"
      ]
    },
    {
      "cell_type": "code",
      "execution_count": null,
      "id": "ba668f22",
      "metadata": {
        "id": "ba668f22",
        "outputId": "dc051249-4c01-4a51-f661-a7ade207cb48"
      },
      "outputs": [
        {
          "name": "stdout",
          "output_type": "stream",
          "text": [
            "with average  0.0184661865234375 time taken in depth 1, \n",
            "and  33.2 average visited nodes, wining chance with board 6*7 is:  71.0 %\n",
            "\n"
          ]
        }
      ],
      "source": [
        "import time\n",
        "\n",
        "win_counter = 0\n",
        "cell_counter = 0\n",
        "s = 0\n",
        "e = 0\n",
        "for i in range(200):\n",
        "    game = ConnectSin(board_size=(6,7),silent=True)\n",
        "    game.set_max_depth(1)\n",
        "    game.set_purning_flag(False)\n",
        "    s += time.time()\n",
        "    if game.run() == 1:\n",
        "        win_counter += 1\n",
        "\n",
        "    e += time.time()\n",
        "\n",
        "    cell_counter += game.get_cell_visited()\n",
        "\n",
        "print(\"with average \",(e - s) / 200, \"time taken in depth 1, \\nand \", cell_counter / 200, \"average visited nodes, wining chance with board 6*7 is: \", win_counter / 2, \"%\\n\")\n"
      ]
    },
    {
      "cell_type": "code",
      "execution_count": null,
      "id": "1c77e154",
      "metadata": {
        "id": "1c77e154",
        "outputId": "d2fd5728-c663-4265-db87-b9d284307b5d"
      },
      "outputs": [
        {
          "name": "stdout",
          "output_type": "stream",
          "text": [
            "with average  0.0297564697265625 time taken in depth 1, \n",
            "and  34.92 average visited nodes, wining chance with board 7*8 is:  75.5 %\n",
            "\n"
          ]
        }
      ],
      "source": [
        "win_counter = 0\n",
        "cell_counter = 0\n",
        "s = 0\n",
        "e = 0\n",
        "for i in range(200):\n",
        "    game = ConnectSin(board_size=(7,8),silent=True)\n",
        "    game.set_max_depth(1)\n",
        "    game.set_purning_flag(False)\n",
        "    s += time.time()\n",
        "    if game.run() == 1:\n",
        "        win_counter += 1\n",
        "\n",
        "    e += time.time()\n",
        "\n",
        "    cell_counter += game.get_cell_visited()\n",
        "\n",
        "print(\"with average \",(e - s) / 200, \"time taken in depth 1, \\nand \", cell_counter / 200, \"average visited nodes, wining chance with board 7*8 is: \", win_counter / 2, \"%\\n\")\n"
      ]
    },
    {
      "cell_type": "code",
      "execution_count": null,
      "id": "5600e8ba",
      "metadata": {
        "id": "5600e8ba",
        "outputId": "374b34ce-8c2b-4946-be49-1005e628ce84"
      },
      "outputs": [
        {
          "name": "stdout",
          "output_type": "stream",
          "text": [
            "with average  0.046712646484375 time taken in depth 1, \n",
            "and  43.45 average visited nodes, wining chance with board 7*10 is:  78.0 %\n",
            "\n"
          ]
        }
      ],
      "source": [
        "win_counter = 0\n",
        "cell_counter = 0\n",
        "s = 0\n",
        "e = 0\n",
        "for i in range(200):\n",
        "    game = ConnectSin(board_size=(7,10),silent=True)\n",
        "    game.set_max_depth(1)\n",
        "    game.set_purning_flag(False)\n",
        "    s += time.time()\n",
        "    if game.run() == 1:\n",
        "        win_counter += 1\n",
        "\n",
        "    e += time.time()\n",
        "\n",
        "    cell_counter += game.get_cell_visited()\n",
        "\n",
        "print(\"with average \",(e - s) / 200, \"time taken in depth 1, \\nand \", cell_counter / 200, \"average visited nodes, wining chance with board 7*10 is: \", win_counter / 2, \"%\\n\")\n"
      ]
    },
    {
      "cell_type": "code",
      "execution_count": null,
      "id": "8574e554",
      "metadata": {
        "id": "8574e554",
        "outputId": "4d436cec-5ce8-4fd1-aa83-0a63c1e66903"
      },
      "outputs": [
        {
          "name": "stdout",
          "output_type": "stream",
          "text": [
            "with average  1.0129581451416017 time taken in depth 3, \n",
            "and  2519.95 average visited nodes, wining chance with board 6*7 is:  100.0 %\n",
            "\n"
          ]
        }
      ],
      "source": [
        "win_counter = 0\n",
        "cell_counter = 0\n",
        "s = 0\n",
        "e = 0\n",
        "for i in range(20):\n",
        "    game = ConnectSin(board_size=(6,7),silent=True)\n",
        "    game.set_max_depth(3)\n",
        "    game.set_purning_flag(False)\n",
        "    s += time.time()\n",
        "    if game.run() == 1:\n",
        "        win_counter += 1\n",
        "\n",
        "    e += time.time()\n",
        "\n",
        "    cell_counter += game.get_cell_visited()\n",
        "\n",
        "print(\"with average \",(e - s) / 20, \"time taken in depth 3, \\nand \", cell_counter / 20, \"average visited nodes, wining chance with board 6*7 is: \", win_counter*10 / 2, \"%\\n\")\n"
      ]
    },
    {
      "cell_type": "code",
      "execution_count": null,
      "id": "9c32c03c",
      "metadata": {
        "id": "9c32c03c",
        "outputId": "25d6b438-24bf-4926-c304-8aa16b6f307f"
      },
      "outputs": [
        {
          "name": "stdout",
          "output_type": "stream",
          "text": [
            "with average  2.6436674118041994 time taken in depth 3, \n",
            "and  4051.4 average visited nodes, wining chance with board 7*8 is:  100.0 %\n",
            "\n"
          ]
        }
      ],
      "source": [
        "win_counter = 0\n",
        "cell_counter = 0\n",
        "s = 0\n",
        "e = 0\n",
        "for i in range(20):\n",
        "    game = ConnectSin(board_size=(7,8),silent=True)\n",
        "    game.set_max_depth(3)\n",
        "    game.set_purning_flag(False)\n",
        "    s += time.time()\n",
        "    if game.run() == 1:\n",
        "        win_counter += 1\n",
        "\n",
        "    e += time.time()\n",
        "\n",
        "    cell_counter += game.get_cell_visited()\n",
        "\n",
        "print(\"with average \",(e - s) / 20, \"time taken in depth 3, \\nand \", cell_counter / 20, \"average visited nodes, wining chance with board 7*8 is: \", win_counter*10 / 2, \"%\\n\")\n"
      ]
    },
    {
      "cell_type": "code",
      "execution_count": null,
      "id": "c9b7b55a",
      "metadata": {
        "id": "c9b7b55a",
        "outputId": "e474dd35-ea81-4c41-971d-8cda87352645"
      },
      "outputs": [
        {
          "name": "stdout",
          "output_type": "stream",
          "text": [
            "with average  6.893675422668457 time taken in depth 3, \n",
            "and  7733.3 average visited nodes, wining chance with board 7*10 is:  100.0 %\n",
            "\n"
          ]
        }
      ],
      "source": [
        "win_counter = 0\n",
        "cell_counter = 0\n",
        "s = 0\n",
        "e = 0\n",
        "for i in range(20):\n",
        "    game = ConnectSin(board_size=(7,10),silent=True)\n",
        "    game.set_max_depth(3)\n",
        "    game.set_purning_flag(False)\n",
        "    s += time.time()\n",
        "    if game.run() == 1:\n",
        "        win_counter += 1\n",
        "\n",
        "    e += time.time()\n",
        "\n",
        "    cell_counter += game.get_cell_visited()\n",
        "\n",
        "print(\"with average \",(e - s) / 20, \"time taken in depth 3, \\nand \", cell_counter / 20, \"average visited nodes, wining chance with board 7*10 is: \", win_counter*10 / 2, \"%\\n\")\n"
      ]
    },
    {
      "cell_type": "code",
      "execution_count": null,
      "id": "862c8ffc",
      "metadata": {
        "id": "862c8ffc",
        "outputId": "b5d9b25c-84ce-4d21-cadf-126c0cda6efe"
      },
      "outputs": [
        {
          "name": "stdout",
          "output_type": "stream",
          "text": [
            "with average  41.94265270233154 time taken in depth 5, \n",
            "and  102958.35 average visited nodes, wining chance with board 6*7 is:  100.0 %\n",
            "\n"
          ]
        }
      ],
      "source": [
        "win_counter = 0\n",
        "cell_counter = 0\n",
        "s = 0\n",
        "e = 0\n",
        "for i in range(20):\n",
        "    game = ConnectSin(board_size=(6,7),silent=True)\n",
        "    game.set_max_depth(5)\n",
        "    game.set_purning_flag(False)\n",
        "    s += time.time()\n",
        "    if game.run() == 1:\n",
        "        win_counter += 1\n",
        "\n",
        "    e += time.time()\n",
        "\n",
        "    cell_counter += game.get_cell_visited()\n",
        "\n",
        "print(\"with average \",(e - s) / 20, \"time taken in depth 5, \\nand \", cell_counter / 20, \"average visited nodes, wining chance with board 6*7 is: \", win_counter*10 / 2, \"%\\n\")\n"
      ]
    },
    {
      "cell_type": "code",
      "execution_count": null,
      "id": "5672b1b0",
      "metadata": {
        "id": "5672b1b0",
        "outputId": "59f11e8e-d554-4c5f-b699-e7ae4378958f"
      },
      "outputs": [
        {
          "name": "stdout",
          "output_type": "stream",
          "text": [
            "with average  140.83032913208007 time taken in depth 5, \n",
            "and  224079.5 average visited nodes, wining chance with board 7*8 is:  100.0 %\n",
            "\n"
          ]
        }
      ],
      "source": [
        "win_counter = 0\n",
        "cell_counter = 0\n",
        "s = 0\n",
        "e = 0\n",
        "for i in range(20):\n",
        "    game = ConnectSin(board_size=(7, 8),silent=True)\n",
        "    game.set_max_depth(5)\n",
        "    game.set_purning_flag(False)\n",
        "    s += time.time()\n",
        "    if game.run() == 1:\n",
        "        win_counter += 1\n",
        "\n",
        "    e += time.time()\n",
        "\n",
        "    cell_counter += game.get_cell_visited()\n",
        "\n",
        "print(\"with average \",(e - s) / 20, \"time taken in depth 5, \\nand \", cell_counter / 20, \"average visited nodes, wining chance with board 7*8 is: \", win_counter*10 / 2, \"%\\n\")\n"
      ]
    },
    {
      "cell_type": "code",
      "execution_count": null,
      "id": "3ea5a669",
      "metadata": {
        "id": "3ea5a669",
        "outputId": "d51c9929-fed0-4037-895a-5b75253e0e64"
      },
      "outputs": [
        {
          "name": "stdout",
          "output_type": "stream",
          "text": [
            "with average  666.8233072757721 time taken in depth 5, \n",
            "and  798353.5 average visited nodes, wining chance with board 7*10 is:  100.0 %\n",
            "\n"
          ]
        }
      ],
      "source": [
        "win_counter = 0\n",
        "cell_counter = 0\n",
        "s = 0\n",
        "e = 0\n",
        "for i in range(20):\n",
        "    game = ConnectSin(board_size=(7, 10),silent=True)\n",
        "    game.set_max_depth(5)\n",
        "    game.set_purning_flag(False)\n",
        "    s += time.time()\n",
        "    if game.run() == 1:\n",
        "        win_counter += 1\n",
        "\n",
        "    e += time.time()\n",
        "\n",
        "    cell_counter += game.get_cell_visited()\n",
        "\n",
        "print(\"with average \",(e - s) / 20, \"time taken in depth 5, \\nand \", cell_counter / 20, \"average visited nodes, wining chance with board 7*10 is: \", win_counter*10 / 20, \"%\\n\")\n"
      ]
    },
    {
      "cell_type": "code",
      "execution_count": null,
      "id": "cace156a",
      "metadata": {
        "id": "cace156a",
        "outputId": "54dc200e-ea8e-4096-d8b6-4b0a86cca394"
      },
      "outputs": [
        {
          "name": "stdout",
          "output_type": "stream",
          "text": [
            "using alpha beta purning: with average  0.00619049072265625 time taken in depth 1, \n",
            "and  8.01 average visited nodes, wining chance with board 6*7 is:  71.5 %\n",
            "\n"
          ]
        }
      ],
      "source": [
        "win_counter = 0\n",
        "cell_counter = 0\n",
        "s = 0\n",
        "e = 0\n",
        "for i in range(200):\n",
        "    game = ConnectSin(board_size=(6, 7),silent=True)\n",
        "    game.set_max_depth(1)\n",
        "    game.set_purning_flag(True)\n",
        "    s += time.time()\n",
        "    if game.run() == 1:\n",
        "        win_counter += 1\n",
        "\n",
        "    e += time.time()\n",
        "\n",
        "    cell_counter += game.get_cell_visited()\n",
        "\n",
        "print(\"using alpha beta purning: with average \",(e - s) / 200, \"time taken in depth 1, \\nand \", cell_counter / 200, \"average visited nodes, wining chance with board 6*7 is: \", win_counter / 2, \"%\\n\")\n"
      ]
    },
    {
      "cell_type": "code",
      "execution_count": null,
      "id": "ebdf13f9",
      "metadata": {
        "id": "ebdf13f9",
        "outputId": "69d80d00-e965-4379-cfc7-7fcb4c9743c3"
      },
      "outputs": [
        {
          "name": "stdout",
          "output_type": "stream",
          "text": [
            "using alpha beta purning: with average  0.00935577392578125 time taken in depth 1, \n",
            "and  7.87 average visited nodes, wining chance with board 7*8 is:  73.5 %\n",
            "\n"
          ]
        }
      ],
      "source": [
        "win_counter = 0\n",
        "cell_counter = 0\n",
        "s = 0\n",
        "e = 0\n",
        "for i in range(200):\n",
        "    game = ConnectSin(board_size=(7, 8),silent=True)\n",
        "    game.set_max_depth(1)\n",
        "    game.set_purning_flag(True)\n",
        "    s += time.time()\n",
        "    if game.run() == 1:\n",
        "        win_counter += 1\n",
        "\n",
        "    e += time.time()\n",
        "\n",
        "    cell_counter += game.get_cell_visited()\n",
        "\n",
        "print(\"using alpha beta purning: with average \",(e - s) / 200, \"time taken in depth 1, \\nand \", cell_counter / 200, \"average visited nodes, wining chance with board 7*8 is: \", win_counter / 2, \"%\\n\")\n"
      ]
    },
    {
      "cell_type": "code",
      "execution_count": null,
      "id": "c5594344",
      "metadata": {
        "id": "c5594344",
        "outputId": "514513fc-5b03-4eee-aef1-9021ad7cbe21"
      },
      "outputs": [
        {
          "name": "stdout",
          "output_type": "stream",
          "text": [
            "using alpha beta purning: with average  0.0132958984375 time taken in depth 1, \n",
            "and  7.78 average visited nodes, wining chance with board 7*10 is:  75.0 %\n",
            "\n"
          ]
        }
      ],
      "source": [
        "win_counter = 0\n",
        "cell_counter = 0\n",
        "s = 0\n",
        "e = 0\n",
        "for i in range(200):\n",
        "    game = ConnectSin(board_size=(7, 10),silent=True)\n",
        "    game.set_max_depth(1)\n",
        "    game.set_purning_flag(True)\n",
        "    s += time.time()\n",
        "    if game.run() == 1:\n",
        "        win_counter += 1\n",
        "\n",
        "    e += time.time()\n",
        "\n",
        "    cell_counter += game.get_cell_visited()\n",
        "\n",
        "print(\"using alpha beta purning: with average \",(e - s) / 200, \"time taken in depth 1, \\nand \", cell_counter / 200, \"average visited nodes, wining chance with board 7*10 is: \", win_counter / 2, \"%\\n\")\n"
      ]
    },
    {
      "cell_type": "code",
      "execution_count": null,
      "id": "30289181",
      "metadata": {
        "id": "30289181",
        "outputId": "6a5d90e8-6fb9-4764-9ed5-540d8d655ca0"
      },
      "outputs": [
        {
          "name": "stdout",
          "output_type": "stream",
          "text": [
            "using alpha beta purning: with average  0.00715545654296875 time taken in depth 3, \n",
            "and  14.705 average visited nodes, wining chance with board 6*7 is:  70.5 %\n",
            "\n"
          ]
        }
      ],
      "source": [
        "win_counter = 0\n",
        "cell_counter = 0\n",
        "s = 0\n",
        "e = 0\n",
        "for i in range(200):\n",
        "    game = ConnectSin(board_size=(6, 7),silent=True)\n",
        "    game.set_max_depth(3)\n",
        "    game.set_purning_flag(True)\n",
        "    s += time.time()\n",
        "    if game.run() == 1:\n",
        "        win_counter += 1\n",
        "\n",
        "    e += time.time()\n",
        "\n",
        "    cell_counter += game.get_cell_visited()\n",
        "\n",
        "print(\"using alpha beta purning: with average \",(e - s) / 200, \"time taken in depth 3, \\nand \", cell_counter / 200, \"average visited nodes, wining chance with board 6*7 is: \", win_counter / 2, \"%\\n\")\n"
      ]
    },
    {
      "cell_type": "code",
      "execution_count": null,
      "id": "de181b41",
      "metadata": {
        "id": "de181b41",
        "outputId": "3973d89f-b36d-47e9-cbcb-b781979d59e2"
      },
      "outputs": [
        {
          "name": "stdout",
          "output_type": "stream",
          "text": [
            "using alpha beta purning: with average  0.01033050537109375 time taken in depth 3, \n",
            "and  14.245 average visited nodes, wining chance with board 7*8 is:  71.5 %\n",
            "\n"
          ]
        }
      ],
      "source": [
        "win_counter = 0\n",
        "cell_counter = 0\n",
        "s = 0\n",
        "e = 0\n",
        "for i in range(200):\n",
        "    game = ConnectSin(board_size=(7, 8),silent=True)\n",
        "    game.set_max_depth(3)\n",
        "    game.set_purning_flag(True)\n",
        "    s += time.time()\n",
        "    if game.run() == 1:\n",
        "        win_counter += 1\n",
        "\n",
        "    e += time.time()\n",
        "\n",
        "    cell_counter += game.get_cell_visited()\n",
        "\n",
        "print(\"using alpha beta purning: with average \",(e - s) / 200, \"time taken in depth 3, \\nand \", cell_counter / 200, \"average visited nodes, wining chance with board 7*8 is: \", win_counter / 2, \"%\\n\")\n"
      ]
    },
    {
      "cell_type": "code",
      "execution_count": null,
      "id": "069bd30e",
      "metadata": {
        "id": "069bd30e",
        "outputId": "f8304670-ddb1-4f6d-8e69-2f77ecbb42af"
      },
      "outputs": [
        {
          "name": "stdout",
          "output_type": "stream",
          "text": [
            "using alpha beta purning: with average  0.014560546875 time taken in depth 3, \n",
            "and  13.96 average visited nodes, wining chance with board 7*10 is:  74.0 %\n",
            "\n"
          ]
        }
      ],
      "source": [
        "win_counter = 0\n",
        "cell_counter = 0\n",
        "s = 0\n",
        "e = 0\n",
        "for i in range(200):\n",
        "    game = ConnectSin(board_size=(7, 10),silent=True)\n",
        "    game.set_max_depth(3)\n",
        "    game.set_purning_flag(True)\n",
        "    s += time.time()\n",
        "    if game.run() == 1:\n",
        "        win_counter += 1\n",
        "\n",
        "    e += time.time()\n",
        "\n",
        "    cell_counter += game.get_cell_visited()\n",
        "\n",
        "print(\"using alpha beta purning: with average \",(e - s) / 200, \"time taken in depth 3, \\nand \", cell_counter / 200, \"average visited nodes, wining chance with board 7*10 is: \", win_counter / 2, \"%\\n\")\n"
      ]
    },
    {
      "cell_type": "code",
      "execution_count": null,
      "id": "0981fdb3",
      "metadata": {
        "id": "0981fdb3",
        "outputId": "3d0b2b85-51d4-459e-f6f0-23d06865a9ae"
      },
      "outputs": [
        {
          "name": "stdout",
          "output_type": "stream",
          "text": [
            "using alpha beta purning: with average  0.00796051025390625 time taken in depth 5, \n",
            "and  20.82 average visited nodes, wining chance with board 6*7 is:  73.5 %\n",
            "\n"
          ]
        }
      ],
      "source": [
        "win_counter = 0\n",
        "cell_counter = 0\n",
        "s = 0\n",
        "e = 0\n",
        "for i in range(200):\n",
        "    game = ConnectSin(board_size=(6, 7),silent=True)\n",
        "    game.set_max_depth(5)\n",
        "    game.set_purning_flag(True)\n",
        "    s += time.time()\n",
        "    if game.run() == 1:\n",
        "        win_counter += 1\n",
        "\n",
        "    e += time.time()\n",
        "\n",
        "    cell_counter += game.get_cell_visited()\n",
        "\n",
        "print(\"using alpha beta purning: with average \",(e - s) / 200, \"time taken in depth 5, \\nand \", cell_counter / 200, \"average visited nodes, wining chance with board 6*7 is: \", win_counter / 2, \"%\\n\")\n"
      ]
    },
    {
      "cell_type": "code",
      "execution_count": null,
      "id": "d76bba40",
      "metadata": {
        "id": "d76bba40",
        "outputId": "e6e69485-41df-4871-90bc-149ba477e901"
      },
      "outputs": [
        {
          "name": "stdout",
          "output_type": "stream",
          "text": [
            "using alpha beta purning: with average  0.01164031982421875 time taken in depth 5, \n",
            "and  20.71 average visited nodes, wining chance with board 7*8 is:  72.5 %\n",
            "\n"
          ]
        }
      ],
      "source": [
        "win_counter = 0\n",
        "cell_counter = 0\n",
        "s = 0\n",
        "e = 0\n",
        "for i in range(200):\n",
        "    game = ConnectSin(board_size=(7, 8),silent=True)\n",
        "    game.set_max_depth(5)\n",
        "    game.set_purning_flag(True)\n",
        "    s += time.time()\n",
        "    if game.run() == 1:\n",
        "        win_counter += 1\n",
        "\n",
        "    e += time.time()\n",
        "\n",
        "    cell_counter += game.get_cell_visited()\n",
        "\n",
        "print(\"using alpha beta purning: with average \",(e - s) / 200, \"time taken in depth 5, \\nand \", cell_counter / 200, \"average visited nodes, wining chance with board 7*8 is: \", win_counter / 2, \"%\\n\")\n"
      ]
    },
    {
      "cell_type": "code",
      "execution_count": null,
      "id": "865cc3f7",
      "metadata": {
        "id": "865cc3f7",
        "outputId": "9e804c86-0bde-4d6d-a829-c6f64b356e99"
      },
      "outputs": [
        {
          "name": "stdout",
          "output_type": "stream",
          "text": [
            "using alpha beta purning: with average  0.0148211669921875 time taken in depth 5, \n",
            "and  20.23 average visited nodes, wining chance with board 7*10 is:  77.0 %\n",
            "\n"
          ]
        }
      ],
      "source": [
        "win_counter = 0\n",
        "cell_counter = 0\n",
        "s = 0\n",
        "e = 0\n",
        "for i in range(200):\n",
        "    game = ConnectSin(board_size=(7, 10),silent=True)\n",
        "    game.set_max_depth(5)\n",
        "    game.set_purning_flag(True)\n",
        "    s += time.time()\n",
        "    if game.run() == 1:\n",
        "        win_counter += 1\n",
        "\n",
        "    e += time.time()\n",
        "\n",
        "    cell_counter += game.get_cell_visited()\n",
        "\n",
        "print(\"using alpha beta purning: with average \",(e - s) / 200, \"time taken in depth 5, \\nand \", cell_counter / 200, \"average visited nodes, wining chance with board 7*10 is: \", win_counter / 2, \"%\\n\")\n"
      ]
    },
    {
      "cell_type": "code",
      "execution_count": null,
      "id": "5a51e503",
      "metadata": {
        "id": "5a51e503"
      },
      "outputs": [],
      "source": [
        "win_counter = 0\n",
        "cell_counter = 0\n",
        "s = 0\n",
        "e = 0\n",
        "for i in range(200):\n",
        "    game = ConnectSin(board_size=(6, 7),silent=True)\n",
        "    game.set_max_depth(7)\n",
        "    game.set_purning_flag(True)\n",
        "    s += time.time()\n",
        "    if game.run() == 1:\n",
        "        win_counter += 1\n",
        "\n",
        "    e += time.time()\n",
        "\n",
        "    cell_counter += game.get_cell_visited()\n",
        "\n",
        "print(\"using alpha beta purning: with average \",(e - s) / 20, \"time taken in depth 7, \\nand \", cell_counter / 20, \"average visited nodes, wining chance with board 6*7 is: \", win_counter*10 / 2, \"%\\n\")\n"
      ]
    },
    {
      "cell_type": "code",
      "execution_count": null,
      "id": "41793f21",
      "metadata": {
        "id": "41793f21"
      },
      "outputs": [],
      "source": [
        "win_counter = 0\n",
        "cell_counter = 0\n",
        "s = 0\n",
        "e = 0\n",
        "for i in range(200):\n",
        "    game = ConnectSin(board_size=(7, 8),silent=True)\n",
        "    game.set_max_depth(7)\n",
        "    game.set_purning_flag(True)\n",
        "    s += time.time()\n",
        "    if game.run() == 1:\n",
        "        win_counter += 1\n",
        "\n",
        "    e += time.time()\n",
        "\n",
        "    cell_counter += game.get_cell_visited()\n",
        "\n",
        "print(\"using alpha beta purning: with average \",(e - s) / 10, \"time taken in depth 7, \\nand \", cell_counter / 10, \"average visited nodes, wining chance with board 7*8 is: \", win_counter*10, \"%\\n\")\n"
      ]
    },
    {
      "cell_type": "code",
      "execution_count": null,
      "id": "cbfdd743",
      "metadata": {
        "id": "cbfdd743"
      },
      "outputs": [],
      "source": [
        "win_counter = 0\n",
        "cell_counter = 0\n",
        "s = 0\n",
        "e = 0\n",
        "for i in range(200):\n",
        "    game = ConnectSin(board_size=(7, 10),silent=True)\n",
        "    game.set_max_depth(7)\n",
        "    game.set_purning_flag(True)\n",
        "    s += time.time()\n",
        "    if game.run() == 1:\n",
        "        win_counter += 1\n",
        "\n",
        "    e += time.time()\n",
        "\n",
        "    cell_counter += game.get_cell_visited()\n",
        "\n",
        "print(\"using alpha beta purning: with average \",(e - s) / 2, \"time taken in depth 7, \\nand \", cell_counter / 2, \"average visited nodes, wining chance with board 7*10 is: \", win_counter*100 / 2, \"%\\n\")\n"
      ]
    },
    {
      "cell_type": "markdown",
      "id": "ac6676ca",
      "metadata": {
        "id": "ac6676ca"
      },
      "source": [
        "# conclusion\n",
        "we estimated next move of our opponent and played with cpu AND we had high chance of wining in each depth and board given and We also used pruning to decrease the execution time and it was better in comparison of not purning"
      ]
    },
    {
      "cell_type": "markdown",
      "id": "79e7841c",
      "metadata": {
        "id": "79e7841c"
      },
      "source": [
        "# sources\n",
        "wikipedia\n",
        "geeksforgeeks\n",
        "youtube ...\n",
        "\n"
      ]
    }
  ],
  "metadata": {
    "kernelspec": {
      "display_name": "Python 3 (ipykernel)",
      "language": "python",
      "name": "python3"
    },
    "language_info": {
      "codemirror_mode": {
        "name": "ipython",
        "version": 3
      },
      "file_extension": ".py",
      "mimetype": "text/x-python",
      "name": "python",
      "nbconvert_exporter": "python",
      "pygments_lexer": "ipython3",
      "version": "3.8.10"
    },
    "colab": {
      "provenance": []
    }
  },
  "nbformat": 4,
  "nbformat_minor": 5
}